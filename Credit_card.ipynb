{
  "nbformat": 4,
  "nbformat_minor": 0,
  "metadata": {
    "colab": {
      "name": "Credit_card.ipynb",
      "provenance": [],
      "authorship_tag": "ABX9TyOC+jeCY2dLzYdoqKRpqCCp"
    },
    "kernelspec": {
      "name": "python3",
      "display_name": "Python 3"
    }
  },
  "cells": [
    {
      "cell_type": "code",
      "metadata": {
        "id": "mnfXEhLYY7gH",
        "colab_type": "code",
        "colab": {
          "base_uri": "https://localhost:8080/",
          "height": 125
        },
        "outputId": "39a37792-664b-48d2-b83a-9125f9f46c3b"
      },
      "source": [
        "from google.colab import drive\n",
        "drive.mount('/content/gdrive')"
      ],
      "execution_count": 3,
      "outputs": [
        {
          "output_type": "stream",
          "text": [
            "Go to this URL in a browser: https://accounts.google.com/o/oauth2/auth?client_id=947318989803-6bn6qk8qdgf4n4g3pfee6491hc0brc4i.apps.googleusercontent.com&redirect_uri=urn%3aietf%3awg%3aoauth%3a2.0%3aoob&response_type=code&scope=email%20https%3a%2f%2fwww.googleapis.com%2fauth%2fdocs.test%20https%3a%2f%2fwww.googleapis.com%2fauth%2fdrive%20https%3a%2f%2fwww.googleapis.com%2fauth%2fdrive.photos.readonly%20https%3a%2f%2fwww.googleapis.com%2fauth%2fpeopleapi.readonly\n",
            "\n",
            "Enter your authorization code:\n",
            "··········\n",
            "Mounted at /content/gdrive\n"
          ],
          "name": "stdout"
        }
      ]
    },
    {
      "cell_type": "code",
      "metadata": {
        "id": "nCb_j3LIrjya",
        "colab_type": "code",
        "colab": {}
      },
      "source": [
        "from keras.models import Sequential\n",
        "from keras.layers import Dense\n",
        "import numpy as np\n",
        "import tensorflow as tf"
      ],
      "execution_count": 4,
      "outputs": []
    },
    {
      "cell_type": "code",
      "metadata": {
        "id": "lczzc0uDr_fJ",
        "colab_type": "code",
        "colab": {}
      },
      "source": [
        "seed = 0\n",
        "np.random.seed(seed)\n",
        "tf.random.set_seed(seed)"
      ],
      "execution_count": 5,
      "outputs": []
    },
    {
      "cell_type": "code",
      "metadata": {
        "id": "BFZPB5IXsYJu",
        "colab_type": "code",
        "colab": {}
      },
      "source": [
        "dataset = np.loadtxt(\"/content/gdrive/My Drive/deepLearning/data/credit_card_data.csv\", delimiter=\",\")\n",
        "X = dataset[:,0:3]\n",
        "Y = dataset[:,3]"
      ],
      "execution_count": 6,
      "outputs": []
    },
    {
      "cell_type": "code",
      "metadata": {
        "id": "ZmaYcZW3tH5-",
        "colab_type": "code",
        "colab": {}
      },
      "source": [
        "model = Sequential()\n",
        "model.add(Dense(50, input_dim=3, activation='relu'))\n",
        "model.add(Dense(10, activation='relu'))\n",
        "model.add(Dense(1, activation='sigmoid'))"
      ],
      "execution_count": 7,
      "outputs": []
    },
    {
      "cell_type": "code",
      "metadata": {
        "id": "RYHddGz7uoK1",
        "colab_type": "code",
        "colab": {}
      },
      "source": [
        "model.compile(loss='binary_crossentropy', optimizer='adam', metrics=['accuracy'])"
      ],
      "execution_count": 8,
      "outputs": []
    },
    {
      "cell_type": "code",
      "metadata": {
        "id": "OduB6FdWvMLu",
        "colab_type": "code",
        "colab": {
          "base_uri": "https://localhost:8080/",
          "height": 1000
        },
        "outputId": "3cd51cae-38c4-4d3a-ec1b-df117f87f8a8"
      },
      "source": [
        "model.fit(X, Y, epochs=100, batch_size=10)"
      ],
      "execution_count": 9,
      "outputs": [
        {
          "output_type": "stream",
          "text": [
            "Epoch 1/100\n",
            "1000/1000 [==============================] - 1s 1ms/step - loss: 10.0925 - accuracy: 0.9249\n",
            "Epoch 2/100\n",
            "1000/1000 [==============================] - 1s 1ms/step - loss: 6.9487 - accuracy: 0.9233\n",
            "Epoch 3/100\n",
            "1000/1000 [==============================] - 1s 1ms/step - loss: 6.4685 - accuracy: 0.9282\n",
            "Epoch 4/100\n",
            "1000/1000 [==============================] - 1s 1ms/step - loss: 5.0532 - accuracy: 0.9296\n",
            "Epoch 5/100\n",
            "1000/1000 [==============================] - 1s 1ms/step - loss: 7.0290 - accuracy: 0.9299\n",
            "Epoch 6/100\n",
            "1000/1000 [==============================] - 1s 1ms/step - loss: 5.5180 - accuracy: 0.9298\n",
            "Epoch 7/100\n",
            "1000/1000 [==============================] - 1s 1ms/step - loss: 5.2675 - accuracy: 0.9299\n",
            "Epoch 8/100\n",
            "1000/1000 [==============================] - 1s 1ms/step - loss: 4.8081 - accuracy: 0.9285\n",
            "Epoch 9/100\n",
            "1000/1000 [==============================] - 1s 1ms/step - loss: 3.1412 - accuracy: 0.9309\n",
            "Epoch 10/100\n",
            "1000/1000 [==============================] - 1s 1ms/step - loss: 3.6726 - accuracy: 0.9295\n",
            "Epoch 11/100\n",
            "1000/1000 [==============================] - 1s 1ms/step - loss: 3.1561 - accuracy: 0.9289\n",
            "Epoch 12/100\n",
            "1000/1000 [==============================] - 1s 1ms/step - loss: 2.9557 - accuracy: 0.9305\n",
            "Epoch 13/100\n",
            "1000/1000 [==============================] - 1s 1ms/step - loss: 2.4292 - accuracy: 0.9315\n",
            "Epoch 14/100\n",
            "1000/1000 [==============================] - 1s 1ms/step - loss: 2.4731 - accuracy: 0.9297\n",
            "Epoch 15/100\n",
            "1000/1000 [==============================] - 1s 1ms/step - loss: 2.5574 - accuracy: 0.9291\n",
            "Epoch 16/100\n",
            "1000/1000 [==============================] - 1s 1ms/step - loss: 2.4843 - accuracy: 0.9331\n",
            "Epoch 17/100\n",
            "1000/1000 [==============================] - 1s 1ms/step - loss: 2.4637 - accuracy: 0.9336\n",
            "Epoch 18/100\n",
            "1000/1000 [==============================] - 1s 1ms/step - loss: 2.0426 - accuracy: 0.9288\n",
            "Epoch 19/100\n",
            "1000/1000 [==============================] - 1s 1ms/step - loss: 2.0292 - accuracy: 0.9293\n",
            "Epoch 20/100\n",
            "1000/1000 [==============================] - 1s 1ms/step - loss: 2.3491 - accuracy: 0.9306\n",
            "Epoch 21/100\n",
            "1000/1000 [==============================] - 1s 1ms/step - loss: 2.0264 - accuracy: 0.9330\n",
            "Epoch 22/100\n",
            "1000/1000 [==============================] - 1s 1ms/step - loss: 1.5495 - accuracy: 0.9342\n",
            "Epoch 23/100\n",
            "1000/1000 [==============================] - 1s 1ms/step - loss: 1.6652 - accuracy: 0.9355\n",
            "Epoch 24/100\n",
            "1000/1000 [==============================] - 1s 1ms/step - loss: 1.6971 - accuracy: 0.9344\n",
            "Epoch 25/100\n",
            "1000/1000 [==============================] - 1s 1ms/step - loss: 1.5404 - accuracy: 0.9344\n",
            "Epoch 26/100\n",
            "1000/1000 [==============================] - 1s 1ms/step - loss: 1.4158 - accuracy: 0.9336\n",
            "Epoch 27/100\n",
            "1000/1000 [==============================] - 1s 1ms/step - loss: 1.4281 - accuracy: 0.9359\n",
            "Epoch 28/100\n",
            "1000/1000 [==============================] - 1s 1ms/step - loss: 1.2240 - accuracy: 0.9370\n",
            "Epoch 29/100\n",
            "1000/1000 [==============================] - 1s 1ms/step - loss: 1.2083 - accuracy: 0.9330\n",
            "Epoch 30/100\n",
            "1000/1000 [==============================] - 1s 1ms/step - loss: 1.0530 - accuracy: 0.9378\n",
            "Epoch 31/100\n",
            "1000/1000 [==============================] - 1s 1ms/step - loss: 0.8631 - accuracy: 0.9379\n",
            "Epoch 32/100\n",
            "1000/1000 [==============================] - 1s 1ms/step - loss: 0.9594 - accuracy: 0.9390\n",
            "Epoch 33/100\n",
            "1000/1000 [==============================] - 1s 1ms/step - loss: 0.7677 - accuracy: 0.9407\n",
            "Epoch 34/100\n",
            "1000/1000 [==============================] - 1s 1ms/step - loss: 0.9134 - accuracy: 0.9390\n",
            "Epoch 35/100\n",
            "1000/1000 [==============================] - 1s 1ms/step - loss: 0.7515 - accuracy: 0.9426\n",
            "Epoch 36/100\n",
            "1000/1000 [==============================] - 1s 1ms/step - loss: 0.6972 - accuracy: 0.9432\n",
            "Epoch 37/100\n",
            "1000/1000 [==============================] - 1s 1ms/step - loss: 0.8092 - accuracy: 0.9430\n",
            "Epoch 38/100\n",
            "1000/1000 [==============================] - 1s 1ms/step - loss: 0.5636 - accuracy: 0.9422\n",
            "Epoch 39/100\n",
            "1000/1000 [==============================] - 1s 1ms/step - loss: 0.5604 - accuracy: 0.9444\n",
            "Epoch 40/100\n",
            "1000/1000 [==============================] - 1s 1ms/step - loss: 0.5680 - accuracy: 0.9409\n",
            "Epoch 41/100\n",
            "1000/1000 [==============================] - 1s 1ms/step - loss: 0.5332 - accuracy: 0.9430\n",
            "Epoch 42/100\n",
            "1000/1000 [==============================] - 1s 1ms/step - loss: 0.3995 - accuracy: 0.9487\n",
            "Epoch 43/100\n",
            "1000/1000 [==============================] - 1s 1ms/step - loss: 0.3687 - accuracy: 0.9485\n",
            "Epoch 44/100\n",
            "1000/1000 [==============================] - 1s 1ms/step - loss: 0.3420 - accuracy: 0.9488\n",
            "Epoch 45/100\n",
            "1000/1000 [==============================] - 1s 1ms/step - loss: 0.2128 - accuracy: 0.9617\n",
            "Epoch 46/100\n",
            "1000/1000 [==============================] - 1s 1ms/step - loss: 0.1465 - accuracy: 0.9667\n",
            "Epoch 47/100\n",
            "1000/1000 [==============================] - 1s 1ms/step - loss: 0.1490 - accuracy: 0.9666\n",
            "Epoch 48/100\n",
            "1000/1000 [==============================] - 1s 1ms/step - loss: 0.1461 - accuracy: 0.9667\n",
            "Epoch 49/100\n",
            "1000/1000 [==============================] - 1s 1ms/step - loss: 0.1461 - accuracy: 0.9667\n",
            "Epoch 50/100\n",
            "1000/1000 [==============================] - 1s 1ms/step - loss: 0.1461 - accuracy: 0.9667\n",
            "Epoch 51/100\n",
            "1000/1000 [==============================] - 1s 1ms/step - loss: 0.1460 - accuracy: 0.9667\n",
            "Epoch 52/100\n",
            "1000/1000 [==============================] - 1s 1ms/step - loss: 0.1467 - accuracy: 0.9667\n",
            "Epoch 53/100\n",
            "1000/1000 [==============================] - 1s 1ms/step - loss: 0.1463 - accuracy: 0.9667\n",
            "Epoch 54/100\n",
            "1000/1000 [==============================] - 1s 1ms/step - loss: 0.1461 - accuracy: 0.9667\n",
            "Epoch 55/100\n",
            "1000/1000 [==============================] - 1s 1ms/step - loss: 0.1460 - accuracy: 0.9667\n",
            "Epoch 56/100\n",
            "1000/1000 [==============================] - 1s 1ms/step - loss: 0.1460 - accuracy: 0.9667\n",
            "Epoch 57/100\n",
            "1000/1000 [==============================] - 1s 1ms/step - loss: 0.1460 - accuracy: 0.9667\n",
            "Epoch 58/100\n",
            "1000/1000 [==============================] - 1s 1ms/step - loss: 0.1461 - accuracy: 0.9667\n",
            "Epoch 59/100\n",
            "1000/1000 [==============================] - 1s 1ms/step - loss: 0.1461 - accuracy: 0.9667\n",
            "Epoch 60/100\n",
            "1000/1000 [==============================] - 1s 1ms/step - loss: 0.1460 - accuracy: 0.9667\n",
            "Epoch 61/100\n",
            "1000/1000 [==============================] - 1s 1ms/step - loss: 0.1482 - accuracy: 0.9667\n",
            "Epoch 62/100\n",
            "1000/1000 [==============================] - 1s 1ms/step - loss: 0.1461 - accuracy: 0.9667\n",
            "Epoch 63/100\n",
            "1000/1000 [==============================] - 1s 1ms/step - loss: 0.1492 - accuracy: 0.9667\n",
            "Epoch 64/100\n",
            "1000/1000 [==============================] - 1s 1ms/step - loss: 0.1461 - accuracy: 0.9667\n",
            "Epoch 65/100\n",
            "1000/1000 [==============================] - 1s 1ms/step - loss: 0.1461 - accuracy: 0.9667\n",
            "Epoch 66/100\n",
            "1000/1000 [==============================] - 1s 1ms/step - loss: 0.1461 - accuracy: 0.9667\n",
            "Epoch 67/100\n",
            "1000/1000 [==============================] - 1s 1ms/step - loss: 0.1460 - accuracy: 0.9667\n",
            "Epoch 68/100\n",
            "1000/1000 [==============================] - 1s 1ms/step - loss: 0.1460 - accuracy: 0.9667\n",
            "Epoch 69/100\n",
            "1000/1000 [==============================] - 1s 1ms/step - loss: 0.1460 - accuracy: 0.9667\n",
            "Epoch 70/100\n",
            "1000/1000 [==============================] - 1s 1ms/step - loss: 0.1461 - accuracy: 0.9667\n",
            "Epoch 71/100\n",
            "1000/1000 [==============================] - 1s 1ms/step - loss: 0.1460 - accuracy: 0.9667\n",
            "Epoch 72/100\n",
            "1000/1000 [==============================] - 1s 1ms/step - loss: 0.1460 - accuracy: 0.9667\n",
            "Epoch 73/100\n",
            "1000/1000 [==============================] - 1s 1ms/step - loss: 0.1460 - accuracy: 0.9667\n",
            "Epoch 74/100\n",
            "1000/1000 [==============================] - 1s 1ms/step - loss: 0.1461 - accuracy: 0.9667\n",
            "Epoch 75/100\n",
            "1000/1000 [==============================] - 1s 1ms/step - loss: 0.1460 - accuracy: 0.9667\n",
            "Epoch 76/100\n",
            "1000/1000 [==============================] - 1s 1ms/step - loss: 0.1461 - accuracy: 0.9667\n",
            "Epoch 77/100\n",
            "1000/1000 [==============================] - 1s 1ms/step - loss: 0.1516 - accuracy: 0.9666\n",
            "Epoch 78/100\n",
            "1000/1000 [==============================] - 1s 1ms/step - loss: 0.1461 - accuracy: 0.9667\n",
            "Epoch 79/100\n",
            "1000/1000 [==============================] - 1s 1ms/step - loss: 0.1460 - accuracy: 0.9667\n",
            "Epoch 80/100\n",
            "1000/1000 [==============================] - 1s 1ms/step - loss: 0.1460 - accuracy: 0.9667\n",
            "Epoch 81/100\n",
            "1000/1000 [==============================] - 1s 1ms/step - loss: 0.1460 - accuracy: 0.9667\n",
            "Epoch 82/100\n",
            "1000/1000 [==============================] - 1s 1ms/step - loss: 0.1460 - accuracy: 0.9667\n",
            "Epoch 83/100\n",
            "1000/1000 [==============================] - 1s 1ms/step - loss: 0.1460 - accuracy: 0.9667\n",
            "Epoch 84/100\n",
            "1000/1000 [==============================] - 1s 1ms/step - loss: 0.1460 - accuracy: 0.9667\n",
            "Epoch 85/100\n",
            "1000/1000 [==============================] - 1s 1ms/step - loss: 0.1460 - accuracy: 0.9667\n",
            "Epoch 86/100\n",
            "1000/1000 [==============================] - 1s 1ms/step - loss: 0.1460 - accuracy: 0.9667\n",
            "Epoch 87/100\n",
            "1000/1000 [==============================] - 1s 1ms/step - loss: 0.1460 - accuracy: 0.9667\n",
            "Epoch 88/100\n",
            "1000/1000 [==============================] - 1s 1ms/step - loss: 0.1460 - accuracy: 0.9667\n",
            "Epoch 89/100\n",
            "1000/1000 [==============================] - 1s 1ms/step - loss: 0.1460 - accuracy: 0.9667\n",
            "Epoch 90/100\n",
            "1000/1000 [==============================] - 1s 1ms/step - loss: 0.1569 - accuracy: 0.9667\n",
            "Epoch 91/100\n",
            "1000/1000 [==============================] - 1s 1ms/step - loss: 0.1461 - accuracy: 0.9667\n",
            "Epoch 92/100\n",
            "1000/1000 [==============================] - 1s 1ms/step - loss: 0.1460 - accuracy: 0.9667\n",
            "Epoch 93/100\n",
            "1000/1000 [==============================] - 1s 1ms/step - loss: 0.1460 - accuracy: 0.9667\n",
            "Epoch 94/100\n",
            "1000/1000 [==============================] - 1s 1ms/step - loss: 0.1460 - accuracy: 0.9667\n",
            "Epoch 95/100\n",
            "1000/1000 [==============================] - 1s 1ms/step - loss: 0.1460 - accuracy: 0.9667\n",
            "Epoch 96/100\n",
            "1000/1000 [==============================] - 1s 1ms/step - loss: 0.1460 - accuracy: 0.9667\n",
            "Epoch 97/100\n",
            "1000/1000 [==============================] - 1s 1ms/step - loss: 0.1460 - accuracy: 0.9667\n",
            "Epoch 98/100\n",
            "1000/1000 [==============================] - 1s 1ms/step - loss: 0.1460 - accuracy: 0.9667\n",
            "Epoch 99/100\n",
            "1000/1000 [==============================] - 1s 1ms/step - loss: 0.1465 - accuracy: 0.9667\n",
            "Epoch 100/100\n",
            "1000/1000 [==============================] - 1s 1ms/step - loss: 0.1461 - accuracy: 0.9667\n"
          ],
          "name": "stdout"
        },
        {
          "output_type": "execute_result",
          "data": {
            "text/plain": [
              "<tensorflow.python.keras.callbacks.History at 0x7fb6d3cc7710>"
            ]
          },
          "metadata": {
            "tags": []
          },
          "execution_count": 9
        }
      ]
    },
    {
      "cell_type": "code",
      "metadata": {
        "id": "eGu1G3FxvVqi",
        "colab_type": "code",
        "colab": {
          "base_uri": "https://localhost:8080/",
          "height": 52
        },
        "outputId": "96fdb1b6-b1ab-4799-a1a3-c3f7f913a306"
      },
      "source": [
        "print(\"Accuracy : %.4f\" %(model.evaluate(X, Y)[1]))"
      ],
      "execution_count": 10,
      "outputs": [
        {
          "output_type": "stream",
          "text": [
            "313/313 [==============================] - 0s 774us/step - loss: 0.1460 - accuracy: 0.9667\n",
            "Accuracy : 0.9667\n"
          ],
          "name": "stdout"
        }
      ]
    },
    {
      "cell_type": "code",
      "metadata": {
        "id": "ZJH4i_WPvyTP",
        "colab_type": "code",
        "colab": {}
      },
      "source": [
        ""
      ],
      "execution_count": null,
      "outputs": []
    }
  ]
}